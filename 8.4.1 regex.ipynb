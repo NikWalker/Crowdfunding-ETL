{
 "cells": [
  {
   "cell_type": "code",
   "execution_count": 4,
   "id": "66ee4b03",
   "metadata": {},
   "outputs": [],
   "source": [
    "# Import the json module.\n",
    "import json\n",
    "# Assign the string data to a variable. \n",
    "data = \"{'contact_id': 4661, 'name': 'Cecilia Velasco', 'email': 'cecilia.velasco@rodrigues.fr'}\"\n",
    "\n"
   ]
  },
  {
   "cell_type": "code",
   "execution_count": 15,
   "id": "9edc85c3",
   "metadata": {},
   "outputs": [
    {
     "name": "stdout",
     "output_type": "stream",
     "text": [
      "[4661, 'Cecilia Velasco', 'cecilia.velasco@rodrigues.fr']\n"
     ]
    }
   ],
   "source": [
    "#convert the string data to a dictionary\n",
    "converted_data = json.loads(data)\n",
    "#iterate through the dictionary (row) and get the values\n",
    "row_values = [v for k, v in converted_data.items()]\n",
    "print(row_values)"
   ]
  },
  {
   "cell_type": "code",
   "execution_count": 16,
   "id": "f3f2294b",
   "metadata": {},
   "outputs": [
    {
     "name": "stdout",
     "output_type": "stream",
     "text": [
      "{\"contact_id\": 4661, \"name\": \"Cecilia Velasco\", \"email\": \"cecilia.velasco@rodrigues.fr\"}\n"
     ]
    }
   ],
   "source": [
    "data = data.replace(\"'\",'\"')\n",
    "print(data)"
   ]
  },
  {
   "cell_type": "code",
   "execution_count": 34,
   "id": "603a22cb",
   "metadata": {},
   "outputs": [
    {
     "name": "stdout",
     "output_type": "stream",
     "text": [
      "contact_id\n",
      "name\n",
      "email\n"
     ]
    }
   ],
   "source": [
    "# convert string into dictionary format. used json.loads\n",
    "data_dictionary = json.loads(data)\n",
    "#print(data_dictionary)\n",
    "\n",
    "#print value of keys\n",
    "for k in data_dictionary:\n",
    "    print(k)"
   ]
  },
  {
   "cell_type": "code",
   "execution_count": 38,
   "id": "30e91c0d",
   "metadata": {},
   "outputs": [
    {
     "name": "stdout",
     "output_type": "stream",
     "text": [
      "['4661']\n"
     ]
    }
   ],
   "source": [
    "# Import the regular expression module.\n",
    "import re\n",
    "# Assign the string data to a variable. \n",
    "string_data = \"contact_id 4661 name Cecilia Velasco email cecilia.velasco@rodrigues.fr\"\n",
    "\n",
    "#extract the four digit number\n",
    "contact_id = re.findall(r'(\\d{4})', string_data)\n",
    "print(contact_id)\n",
    "\n"
   ]
  },
  {
   "cell_type": "code",
   "execution_count": 40,
   "id": "b6886acf",
   "metadata": {},
   "outputs": [
    {
     "data": {
      "text/html": [
       "<div>\n",
       "<style scoped>\n",
       "    .dataframe tbody tr th:only-of-type {\n",
       "        vertical-align: middle;\n",
       "    }\n",
       "\n",
       "    .dataframe tbody tr th {\n",
       "        vertical-align: top;\n",
       "    }\n",
       "\n",
       "    .dataframe thead th {\n",
       "        text-align: right;\n",
       "    }\n",
       "</style>\n",
       "<table border=\"1\" class=\"dataframe\">\n",
       "  <thead>\n",
       "    <tr style=\"text-align: right;\">\n",
       "      <th></th>\n",
       "      <th>contact_info</th>\n",
       "    </tr>\n",
       "  </thead>\n",
       "  <tbody>\n",
       "    <tr>\n",
       "      <th>0</th>\n",
       "      <td>contact_id 4661 name Cecilia Velasco email cec...</td>\n",
       "    </tr>\n",
       "    <tr>\n",
       "      <th>1</th>\n",
       "      <td>contact_id 3765 name Mariana Ellis email maria...</td>\n",
       "    </tr>\n",
       "    <tr>\n",
       "      <th>2</th>\n",
       "      <td>contact_id 4187 name Sofie Woods email sofie.w...</td>\n",
       "    </tr>\n",
       "    <tr>\n",
       "      <th>3</th>\n",
       "      <td>contact_id 4941 name Jeanette Iannotti email j...</td>\n",
       "    </tr>\n",
       "    <tr>\n",
       "      <th>4</th>\n",
       "      <td>contact_id 2199 name Samuel Sorgatz email samu...</td>\n",
       "    </tr>\n",
       "  </tbody>\n",
       "</table>\n",
       "</div>"
      ],
      "text/plain": [
       "                                        contact_info\n",
       "0  contact_id 4661 name Cecilia Velasco email cec...\n",
       "1  contact_id 3765 name Mariana Ellis email maria...\n",
       "2  contact_id 4187 name Sofie Woods email sofie.w...\n",
       "3  contact_id 4941 name Jeanette Iannotti email j...\n",
       "4  contact_id 2199 name Samuel Sorgatz email samu..."
      ]
     },
     "execution_count": 40,
     "metadata": {},
     "output_type": "execute_result"
    }
   ],
   "source": [
    "# Import the Pandas dependency.\n",
    "import pandas as pd\n",
    "\n",
    "\n",
    "# Read the contacts string data into a Pandas DataFrame\n",
    "contacts_string_df = pd.read_csv(\"resources\\contacts_string_data.csv\")\n",
    "contacts_string_df.head()"
   ]
  },
  {
   "cell_type": "code",
   "execution_count": 41,
   "id": "a54fbde3",
   "metadata": {},
   "outputs": [
    {
     "data": {
      "text/html": [
       "<div>\n",
       "<style scoped>\n",
       "    .dataframe tbody tr th:only-of-type {\n",
       "        vertical-align: middle;\n",
       "    }\n",
       "\n",
       "    .dataframe tbody tr th {\n",
       "        vertical-align: top;\n",
       "    }\n",
       "\n",
       "    .dataframe thead th {\n",
       "        text-align: right;\n",
       "    }\n",
       "</style>\n",
       "<table border=\"1\" class=\"dataframe\">\n",
       "  <thead>\n",
       "    <tr style=\"text-align: right;\">\n",
       "      <th></th>\n",
       "      <th>contact_info</th>\n",
       "      <th>contact_id</th>\n",
       "    </tr>\n",
       "  </thead>\n",
       "  <tbody>\n",
       "    <tr>\n",
       "      <th>0</th>\n",
       "      <td>contact_id 4661 name Cecilia Velasco email cec...</td>\n",
       "      <td>4661</td>\n",
       "    </tr>\n",
       "    <tr>\n",
       "      <th>1</th>\n",
       "      <td>contact_id 3765 name Mariana Ellis email maria...</td>\n",
       "      <td>3765</td>\n",
       "    </tr>\n",
       "    <tr>\n",
       "      <th>2</th>\n",
       "      <td>contact_id 4187 name Sofie Woods email sofie.w...</td>\n",
       "      <td>4187</td>\n",
       "    </tr>\n",
       "    <tr>\n",
       "      <th>3</th>\n",
       "      <td>contact_id 4941 name Jeanette Iannotti email j...</td>\n",
       "      <td>4941</td>\n",
       "    </tr>\n",
       "    <tr>\n",
       "      <th>4</th>\n",
       "      <td>contact_id 2199 name Samuel Sorgatz email samu...</td>\n",
       "      <td>2199</td>\n",
       "    </tr>\n",
       "  </tbody>\n",
       "</table>\n",
       "</div>"
      ],
      "text/plain": [
       "                                        contact_info contact_id\n",
       "0  contact_id 4661 name Cecilia Velasco email cec...       4661\n",
       "1  contact_id 3765 name Mariana Ellis email maria...       3765\n",
       "2  contact_id 4187 name Sofie Woods email sofie.w...       4187\n",
       "3  contact_id 4941 name Jeanette Iannotti email j...       4941\n",
       "4  contact_id 2199 name Samuel Sorgatz email samu...       2199"
      ]
     },
     "execution_count": 41,
     "metadata": {},
     "output_type": "execute_result"
    }
   ],
   "source": [
    "#extract the four digit contact ID number\n",
    "contacts_string_df['contact_id'] = contacts_string_df['contact_info'].str.extract(r'(\\d{4})')\n",
    "contacts_string_df.head()"
   ]
  },
  {
   "cell_type": "code",
   "execution_count": 45,
   "id": "080fbbb1",
   "metadata": {},
   "outputs": [
    {
     "data": {
      "text/plain": [
       "['Cecilia Velasco']"
      ]
     },
     "execution_count": 45,
     "metadata": {},
     "output_type": "execute_result"
    }
   ],
   "source": [
    "#extract the firs and last name afer the word \"name\"\n",
    "name = re.findall(r'([^nameil\\s+][A-Za-z]+\\s+[A-Za-z]+)', string_data)\n",
    "name"
   ]
  },
  {
   "cell_type": "code",
   "execution_count": 47,
   "id": "2d160a69",
   "metadata": {},
   "outputs": [
    {
     "data": {
      "text/plain": [
       "['cecilia.velasco@rodrigues.fr']"
      ]
     },
     "execution_count": 47,
     "metadata": {},
     "output_type": "execute_result"
    }
   ],
   "source": [
    "# Extract the email address using a regular expression pattern. \n",
    "email_address = re.findall(r'(\\S+@\\S+)', string_data)\n",
    "email_address"
   ]
  },
  {
   "cell_type": "code",
   "execution_count": null,
   "id": "4b753631",
   "metadata": {},
   "outputs": [],
   "source": []
  },
  {
   "cell_type": "code",
   "execution_count": null,
   "id": "55c49911",
   "metadata": {},
   "outputs": [],
   "source": []
  },
  {
   "cell_type": "code",
   "execution_count": null,
   "id": "31f78fc7",
   "metadata": {},
   "outputs": [],
   "source": []
  },
  {
   "cell_type": "code",
   "execution_count": null,
   "id": "f0b8e606",
   "metadata": {},
   "outputs": [],
   "source": []
  }
 ],
 "metadata": {
  "kernelspec": {
   "display_name": "PythonData",
   "language": "python",
   "name": "pythondata"
  },
  "language_info": {
   "codemirror_mode": {
    "name": "ipython",
    "version": 3
   },
   "file_extension": ".py",
   "mimetype": "text/x-python",
   "name": "python",
   "nbconvert_exporter": "python",
   "pygments_lexer": "ipython3",
   "version": "3.7.15"
  }
 },
 "nbformat": 4,
 "nbformat_minor": 5
}
